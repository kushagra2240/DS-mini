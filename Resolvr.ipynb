{
 "cells": [
  {
   "cell_type": "code",
   "execution_count": 22,
   "metadata": {},
   "outputs": [],
   "source": [
    "import pandas as pd\n",
    "import numpy as np\n",
    "import matplotlib.pyplot as plt"
   ]
  },
  {
   "cell_type": "code",
   "execution_count": 2,
   "metadata": {},
   "outputs": [],
   "source": [
    "file_path = 'FoodData.csv'\n",
    "resolvr_raw = pd.read_csv(file_path)"
   ]
  },
  {
   "cell_type": "code",
   "execution_count": 3,
   "metadata": {},
   "outputs": [],
   "source": [
    "#resolvr_raw.head(5)"
   ]
  },
  {
   "cell_type": "code",
   "execution_count": 4,
   "metadata": {},
   "outputs": [
    {
     "data": {
      "text/plain": [
       "Index(['Restaurant ID', 'Restaurant Name', 'Country Code', 'Avg. daily orders',\n",
       "       'City', 'Country', 'Address', 'Locality', 'Locality Verbose',\n",
       "       ' Longitude ', ' Latitude ', 'Cuisines', 'Average Cost for two',\n",
       "       'Currency', 'Has Table booking', 'Has Online delivery',\n",
       "       'Percentage online orders', 'Desserts', 'Café Flag', 'Alcohol',\n",
       "       'Price range', 'Q1', 'Q2', 'Q3', 'Q4', 'Aggregate', 'Votes'],\n",
       "      dtype='object')"
      ]
     },
     "execution_count": 4,
     "metadata": {},
     "output_type": "execute_result"
    }
   ],
   "source": [
    "resolvr_raw.columns"
   ]
  },
  {
   "cell_type": "code",
   "execution_count": 5,
   "metadata": {},
   "outputs": [
    {
     "data": {
      "text/plain": [
       "array(['Botswana Pula(P)', 'Brazilian Real(R$)', 'Dollar($)',\n",
       "       'Emirati Diram(AED)', 'Indian Rupees(Rs.)',\n",
       "       'Indonesian Rupiah(IDR)', 'NewZealand($)', 'Pounds',\n",
       "       'Qatari Rial(QR)', 'Rand(R)', 'Sri Lankan Rupee(LKR)',\n",
       "       'Turkish Lira(TL)'], dtype=object)"
      ]
     },
     "execution_count": 5,
     "metadata": {},
     "output_type": "execute_result"
    }
   ],
   "source": [
    "resolvr_raw['Currency'].unique()"
   ]
  },
  {
   "cell_type": "code",
   "execution_count": 6,
   "metadata": {},
   "outputs": [],
   "source": [
    "#def convert_to_dollars(args):  \n",
    "def convert_to_dollars(amount,currency):\n",
    "    #amount, currency = args\n",
    "    rates = {'Botswana Pula(P)': 10.76, 'Brazilian Real(R$)': 4.06, 'Dollar($)': 1,'Emirati Diram(AED)': 3.67,'Indian Rupees(Rs.)':70.87,'Indonesian Rupiah(IDR)':14761.0 ,'NewZealand($)':1.51 ,'Pounds':0.77 ,'Qatari Rial(QR)':3.64 ,'Rand(R)':14.69,'Sri Lankan Rupee(LKR)':161.49 ,'Turkish Lira(TL)':6.55   }\n",
    "    return amount /rates[currency] "
   ]
  },
  {
   "cell_type": "code",
   "execution_count": 8,
   "metadata": {},
   "outputs": [
    {
     "name": "stdout",
     "output_type": "stream",
     "text": [
      "1100 Botswana Pula(P)\n"
     ]
    },
    {
     "data": {
      "text/plain": [
       "102.23048327137546"
      ]
     },
     "execution_count": 8,
     "metadata": {},
     "output_type": "execute_result"
    }
   ],
   "source": [
    "#resolvr_raw.assign(**{'Cost in Dollar': resolvr_raw['Average Cost for two','Currency'].apply(convert_to_dollars, axis=1)})\n",
    "#resolvr_std = resolvr_raw.assign(**{'Cost in Dollar': resolvr_raw['Average Cost for two','Currency'].apply(convert_to_dollars, axis=1)})\n",
    "test = resolvr_raw.iloc[0]\n",
    "#type(test)\n",
    "print (test['Average Cost for two'],test['Currency'])\n",
    "convert_to_dollars(test['Average Cost for two'],test['Currency'])"
   ]
  },
  {
   "cell_type": "code",
   "execution_count": 9,
   "metadata": {},
   "outputs": [],
   "source": [
    "#resolvr_std = resolvr_raw.assign(**{'Cost in Dollar': (resolvr_raw['Average Cost for two'],resolvr_raw['Currency']).apply(convert_to_dollars, axis=1)})\n",
    "dollar_std = ['Average Cost for two','Currency']\n",
    "r_std = resolvr_raw[dollar_std]\n",
    "#resolvr_std = resolvr_raw.assign(**{'Cost in Dollar': r_std.apply(convert_to_dollars, axis=1)})\n",
    "#r_std"
   ]
  },
  {
   "cell_type": "code",
   "execution_count": 10,
   "metadata": {},
   "outputs": [
    {
     "data": {
      "text/plain": [
       "Restaurant ID               9551\n",
       "Restaurant Name             9551\n",
       "Country Code                9551\n",
       "Avg. daily orders           9551\n",
       "City                        9551\n",
       "Country                     9551\n",
       "Address                     9551\n",
       "Locality                    9551\n",
       "Locality Verbose            9551\n",
       " Longitude                  9551\n",
       " Latitude                   9551\n",
       "Cuisines                    9542\n",
       "Average Cost for two        9551\n",
       "Currency                    9551\n",
       "Has Table booking           9551\n",
       "Has Online delivery         9551\n",
       "Percentage online orders    2451\n",
       "Desserts                     687\n",
       "Café Flag                    707\n",
       "Alcohol                      418\n",
       "Price range                 9551\n",
       "Q1                          9551\n",
       "Q2                          9551\n",
       "Q3                          9551\n",
       "Q4                          9551\n",
       "Aggregate                   9551\n",
       "Votes                       9551\n",
       "dtype: int64"
      ]
     },
     "execution_count": 10,
     "metadata": {},
     "output_type": "execute_result"
    }
   ],
   "source": [
    "resolvr_raw.count()"
   ]
  },
  {
   "cell_type": "code",
   "execution_count": 5,
   "metadata": {},
   "outputs": [
    {
     "data": {
      "text/plain": [
       "Restaurant ID           9551\n",
       "Country Code            9551\n",
       "Avg. daily orders       9551\n",
       "Average Cost for two    9551\n",
       "Desserts                 687\n",
       "Café Flag                707\n",
       "Alcohol                  418\n",
       "Price range             9551\n",
       "Q1                      9551\n",
       "Q2                      9551\n",
       "Q3                      9551\n",
       "Q4                      9551\n",
       "Aggregate               9551\n",
       "Votes                   9551\n",
       "dtype: int64"
      ]
     },
     "execution_count": 5,
     "metadata": {},
     "output_type": "execute_result"
    }
   ],
   "source": [
    "resolvr_raw.count(numeric_only='TRUE')"
   ]
  },
  {
   "cell_type": "code",
   "execution_count": 8,
   "metadata": {},
   "outputs": [
    {
     "data": {
      "text/plain": [
       "(9551, 27)"
      ]
     },
     "execution_count": 8,
     "metadata": {},
     "output_type": "execute_result"
    }
   ],
   "source": [
    "resolvr_raw.shape"
   ]
  },
  {
   "cell_type": "code",
   "execution_count": 11,
   "metadata": {},
   "outputs": [
    {
     "name": "stdout",
     "output_type": "stream",
     "text": [
      "Index(['Restaurant ID', 'Country Code', 'Avg. daily orders',\n",
      "       'Average Cost for two', 'Desserts', 'Café Flag', 'Alcohol',\n",
      "       'Price range', 'Q1', 'Q2', 'Q3', 'Q4', 'Aggregate', 'Votes'],\n",
      "      dtype='object') 14\n"
     ]
    }
   ],
   "source": [
    "num_data = resolvr_raw.select_dtypes(include=[np.number])\n",
    "print (num_data.columns, len(num_data.columns))"
   ]
  },
  {
   "cell_type": "code",
   "execution_count": 12,
   "metadata": {},
   "outputs": [
    {
     "data": {
      "text/plain": [
       "count    9551.000000\n",
       "mean       35.505811\n",
       "std         7.524796\n",
       "min        23.000000\n",
       "25%        29.000000\n",
       "50%        36.000000\n",
       "75%        42.000000\n",
       "max        48.000000\n",
       "Name: Avg. daily orders, dtype: float64"
      ]
     },
     "execution_count": 12,
     "metadata": {},
     "output_type": "execute_result"
    }
   ],
   "source": [
    "num_data['Avg. daily orders'].describe()"
   ]
  },
  {
   "cell_type": "code",
   "execution_count": 13,
   "metadata": {},
   "outputs": [],
   "source": [
    "#num_data.corr()"
   ]
  },
  {
   "cell_type": "code",
   "execution_count": 14,
   "metadata": {},
   "outputs": [],
   "source": [
    "#num_data.describe()\n"
   ]
  },
  {
   "cell_type": "code",
   "execution_count": 16,
   "metadata": {},
   "outputs": [],
   "source": [
    "resolvr_std = resolvr_raw\n",
    "resolvr_std.insert(14,'InUSD',\"\")"
   ]
  },
  {
   "cell_type": "code",
   "execution_count": 17,
   "metadata": {},
   "outputs": [
    {
     "data": {
      "text/plain": [
       "Index(['Restaurant ID', 'Restaurant Name', 'Country Code', 'Avg. daily orders',\n",
       "       'City', 'Country', 'Address', 'Locality', 'Locality Verbose',\n",
       "       ' Longitude ', ' Latitude ', 'Cuisines', 'Average Cost for two',\n",
       "       'Currency', 'InUSD', 'Has Table booking', 'Has Online delivery',\n",
       "       'Percentage online orders', 'Desserts', 'Café Flag', 'Alcohol',\n",
       "       'Price range', 'Q1', 'Q2', 'Q3', 'Q4', 'Aggregate', 'Votes'],\n",
       "      dtype='object')"
      ]
     },
     "execution_count": 17,
     "metadata": {},
     "output_type": "execute_result"
    }
   ],
   "source": [
    "resolvr_std.columns"
   ]
  },
  {
   "cell_type": "code",
   "execution_count": 18,
   "metadata": {},
   "outputs": [],
   "source": [
    "resolvr_std['InUSD'] = np.vectorize(convert_to_dollars)(resolvr_std['Average Cost for two'], resolvr_std['Currency'])"
   ]
  },
  {
   "cell_type": "code",
   "execution_count": 21,
   "metadata": {},
   "outputs": [
    {
     "data": {
      "text/plain": [
       "count    9551.000000\n",
       "mean       11.536018\n",
       "std        18.278506\n",
       "min         0.000000\n",
       "25%         4.233103\n",
       "50%         7.055171\n",
       "75%        11.288274\n",
       "max       557.620818\n",
       "Name: InUSD, dtype: float64"
      ]
     },
     "execution_count": 21,
     "metadata": {},
     "output_type": "execute_result"
    }
   ],
   "source": [
    "resolvr_std['InUSD'].describe()"
   ]
  },
  {
   "cell_type": "code",
   "execution_count": 26,
   "metadata": {},
   "outputs": [
    {
     "data": {
      "text/plain": [
       "count     9551.000000\n",
       "mean       156.909748\n",
       "std        430.169145\n",
       "min          0.000000\n",
       "25%          5.000000\n",
       "50%         31.000000\n",
       "75%        131.000000\n",
       "max      10934.000000\n",
       "Name: Votes, dtype: float64"
      ]
     },
     "execution_count": 26,
     "metadata": {},
     "output_type": "execute_result"
    }
   ],
   "source": [
    "resolvr_std['Votes'].describe()"
   ]
  },
  {
   "cell_type": "code",
   "execution_count": 27,
   "metadata": {},
   "outputs": [
    {
     "data": {
      "text/plain": [
       "count    9551.000000\n",
       "mean        2.666370\n",
       "std         1.516378\n",
       "min         0.000000\n",
       "25%         2.500000\n",
       "50%         3.200000\n",
       "75%         3.700000\n",
       "max         4.900000\n",
       "Name: Aggregate, dtype: float64"
      ]
     },
     "execution_count": 27,
     "metadata": {},
     "output_type": "execute_result"
    }
   ],
   "source": [
    "resolvr_std['Aggregate'].describe()"
   ]
  },
  {
   "cell_type": "code",
   "execution_count": 30,
   "metadata": {},
   "outputs": [
    {
     "data": {
      "text/plain": [
       "<matplotlib.axes._subplots.AxesSubplot at 0x20a3e195b38>"
      ]
     },
     "execution_count": 30,
     "metadata": {},
     "output_type": "execute_result"
    },
    {
     "data": {
      "image/png": "[encoded data removed]",
      "text/plain": [
       "<matplotlib.figure.Figure at 0x20a3e7e7518>"
      ]
     },
     "metadata": {},
     "output_type": "display_data"
    }
   ],
   "source": [
    "resolvr_std.plot(x='Votes',y='InUSD', kind='scatter')"
   ]
  },
  {
   "cell_type": "code",
   "execution_count": 28,
   "metadata": {},
   "outputs": [],
   "source": [
    "resolvr_std.InUSD = resolvr_std.InUSD.round()"
   ]
  },
  {
   "cell_type": "code",
   "execution_count": 29,
   "metadata": {},
   "outputs": [],
   "source": [
    "resolvr_std.to_csv('Standardised.csv', encoding='utf-8', index=False)"
   ]
  },
  {
   "cell_type": "code",
   "execution_count": 31,
   "metadata": {},
   "outputs": [
    {
     "data": {
      "text/html": [
       "<div>\n",
       "<style scoped>\n",
       "    .dataframe tbody tr th:only-of-type {\n",
       "        vertical-align: middle;\n",
       "    }\n",
       "\n",
       "    .dataframe tbody tr th {\n",
       "        vertical-align: top;\n",
       "    }\n",
       "\n",
       "    .dataframe thead th {\n",
       "        text-align: right;\n",
       "    }\n",
       "</style>\n",
       "<table border=\"1\" class=\"dataframe\">\n",
       "  <thead>\n",
       "    <tr style=\"text-align: right;\">\n",
       "      <th></th>\n",
       "      <th>Restaurant ID</th>\n",
       "      <th>Country Code</th>\n",
       "      <th>Avg. daily orders</th>\n",
       "      <th>Average Cost for two</th>\n",
       "      <th>InUSD</th>\n",
       "      <th>Desserts</th>\n",
       "      <th>Café Flag</th>\n",
       "      <th>Alcohol</th>\n",
       "      <th>Price range</th>\n",
       "      <th>Q1</th>\n",
       "      <th>Q2</th>\n",
       "      <th>Q3</th>\n",
       "      <th>Q4</th>\n",
       "      <th>Aggregate</th>\n",
       "      <th>Votes</th>\n",
       "    </tr>\n",
       "  </thead>\n",
       "  <tbody>\n",
       "    <tr>\n",
       "      <th>Restaurant ID</th>\n",
       "      <td>1.000000</td>\n",
       "      <td>0.148471</td>\n",
       "      <td>-0.006292</td>\n",
       "      <td>-0.001693</td>\n",
       "      <td>-0.018624</td>\n",
       "      <td>NaN</td>\n",
       "      <td>NaN</td>\n",
       "      <td>NaN</td>\n",
       "      <td>-0.134540</td>\n",
       "      <td>-0.321386</td>\n",
       "      <td>-0.320585</td>\n",
       "      <td>-0.321704</td>\n",
       "      <td>-0.324533</td>\n",
       "      <td>-0.326212</td>\n",
       "      <td>-0.147023</td>\n",
       "    </tr>\n",
       "    <tr>\n",
       "      <th>Country Code</th>\n",
       "      <td>0.148471</td>\n",
       "      <td>1.000000</td>\n",
       "      <td>-0.010387</td>\n",
       "      <td>0.043225</td>\n",
       "      <td>0.436350</td>\n",
       "      <td>NaN</td>\n",
       "      <td>NaN</td>\n",
       "      <td>NaN</td>\n",
       "      <td>0.243327</td>\n",
       "      <td>0.282515</td>\n",
       "      <td>0.287231</td>\n",
       "      <td>0.284638</td>\n",
       "      <td>0.259544</td>\n",
       "      <td>0.282189</td>\n",
       "      <td>0.154530</td>\n",
       "    </tr>\n",
       "    <tr>\n",
       "      <th>Avg. daily orders</th>\n",
       "      <td>-0.006292</td>\n",
       "      <td>-0.010387</td>\n",
       "      <td>1.000000</td>\n",
       "      <td>-0.027389</td>\n",
       "      <td>-0.005344</td>\n",
       "      <td>NaN</td>\n",
       "      <td>NaN</td>\n",
       "      <td>NaN</td>\n",
       "      <td>0.000013</td>\n",
       "      <td>-0.009436</td>\n",
       "      <td>-0.009675</td>\n",
       "      <td>-0.011165</td>\n",
       "      <td>-0.007583</td>\n",
       "      <td>-0.009597</td>\n",
       "      <td>-0.011117</td>\n",
       "    </tr>\n",
       "    <tr>\n",
       "      <th>Average Cost for two</th>\n",
       "      <td>-0.001693</td>\n",
       "      <td>0.043225</td>\n",
       "      <td>-0.027389</td>\n",
       "      <td>1.000000</td>\n",
       "      <td>0.050205</td>\n",
       "      <td>NaN</td>\n",
       "      <td>NaN</td>\n",
       "      <td>NaN</td>\n",
       "      <td>0.075083</td>\n",
       "      <td>0.052651</td>\n",
       "      <td>0.053222</td>\n",
       "      <td>0.053579</td>\n",
       "      <td>0.044940</td>\n",
       "      <td>0.051792</td>\n",
       "      <td>0.067783</td>\n",
       "    </tr>\n",
       "    <tr>\n",
       "      <th>InUSD</th>\n",
       "      <td>-0.018624</td>\n",
       "      <td>0.436350</td>\n",
       "      <td>-0.005344</td>\n",
       "      <td>0.050205</td>\n",
       "      <td>1.000000</td>\n",
       "      <td>NaN</td>\n",
       "      <td>NaN</td>\n",
       "      <td>NaN</td>\n",
       "      <td>0.588054</td>\n",
       "      <td>0.292414</td>\n",
       "      <td>0.293246</td>\n",
       "      <td>0.291032</td>\n",
       "      <td>0.268949</td>\n",
       "      <td>0.290212</td>\n",
       "      <td>0.185907</td>\n",
       "    </tr>\n",
       "    <tr>\n",
       "      <th>Desserts</th>\n",
       "      <td>NaN</td>\n",
       "      <td>NaN</td>\n",
       "      <td>NaN</td>\n",
       "      <td>NaN</td>\n",
       "      <td>NaN</td>\n",
       "      <td>NaN</td>\n",
       "      <td>NaN</td>\n",
       "      <td>NaN</td>\n",
       "      <td>NaN</td>\n",
       "      <td>NaN</td>\n",
       "      <td>NaN</td>\n",
       "      <td>NaN</td>\n",
       "      <td>NaN</td>\n",
       "      <td>NaN</td>\n",
       "      <td>NaN</td>\n",
       "    </tr>\n",
       "    <tr>\n",
       "      <th>Café Flag</th>\n",
       "      <td>NaN</td>\n",
       "      <td>NaN</td>\n",
       "      <td>NaN</td>\n",
       "      <td>NaN</td>\n",
       "      <td>NaN</td>\n",
       "      <td>NaN</td>\n",
       "      <td>NaN</td>\n",
       "      <td>NaN</td>\n",
       "      <td>NaN</td>\n",
       "      <td>NaN</td>\n",
       "      <td>NaN</td>\n",
       "      <td>NaN</td>\n",
       "      <td>NaN</td>\n",
       "      <td>NaN</td>\n",
       "      <td>NaN</td>\n",
       "    </tr>\n",
       "    <tr>\n",
       "      <th>Alcohol</th>\n",
       "      <td>NaN</td>\n",
       "      <td>NaN</td>\n",
       "      <td>NaN</td>\n",
       "      <td>NaN</td>\n",
       "      <td>NaN</td>\n",
       "      <td>NaN</td>\n",
       "      <td>NaN</td>\n",
       "      <td>NaN</td>\n",
       "      <td>NaN</td>\n",
       "      <td>NaN</td>\n",
       "      <td>NaN</td>\n",
       "      <td>NaN</td>\n",
       "      <td>NaN</td>\n",
       "      <td>NaN</td>\n",
       "      <td>NaN</td>\n",
       "    </tr>\n",
       "    <tr>\n",
       "      <th>Price range</th>\n",
       "      <td>-0.134540</td>\n",
       "      <td>0.243327</td>\n",
       "      <td>0.000013</td>\n",
       "      <td>0.075083</td>\n",
       "      <td>0.588054</td>\n",
       "      <td>NaN</td>\n",
       "      <td>NaN</td>\n",
       "      <td>NaN</td>\n",
       "      <td>1.000000</td>\n",
       "      <td>0.437900</td>\n",
       "      <td>0.437668</td>\n",
       "      <td>0.436833</td>\n",
       "      <td>0.416647</td>\n",
       "      <td>0.437944</td>\n",
       "      <td>0.309444</td>\n",
       "    </tr>\n",
       "    <tr>\n",
       "      <th>Q1</th>\n",
       "      <td>-0.321386</td>\n",
       "      <td>0.282515</td>\n",
       "      <td>-0.009436</td>\n",
       "      <td>0.052651</td>\n",
       "      <td>0.292414</td>\n",
       "      <td>NaN</td>\n",
       "      <td>NaN</td>\n",
       "      <td>NaN</td>\n",
       "      <td>0.437900</td>\n",
       "      <td>1.000000</td>\n",
       "      <td>0.981518</td>\n",
       "      <td>0.981254</td>\n",
       "      <td>0.950143</td>\n",
       "      <td>0.991051</td>\n",
       "      <td>0.316508</td>\n",
       "    </tr>\n",
       "    <tr>\n",
       "      <th>Q2</th>\n",
       "      <td>-0.320585</td>\n",
       "      <td>0.287231</td>\n",
       "      <td>-0.009675</td>\n",
       "      <td>0.053222</td>\n",
       "      <td>0.293246</td>\n",
       "      <td>NaN</td>\n",
       "      <td>NaN</td>\n",
       "      <td>NaN</td>\n",
       "      <td>0.437668</td>\n",
       "      <td>0.981518</td>\n",
       "      <td>1.000000</td>\n",
       "      <td>0.982875</td>\n",
       "      <td>0.949600</td>\n",
       "      <td>0.991332</td>\n",
       "      <td>0.316215</td>\n",
       "    </tr>\n",
       "    <tr>\n",
       "      <th>Q3</th>\n",
       "      <td>-0.321704</td>\n",
       "      <td>0.284638</td>\n",
       "      <td>-0.011165</td>\n",
       "      <td>0.053579</td>\n",
       "      <td>0.291032</td>\n",
       "      <td>NaN</td>\n",
       "      <td>NaN</td>\n",
       "      <td>NaN</td>\n",
       "      <td>0.436833</td>\n",
       "      <td>0.981254</td>\n",
       "      <td>0.982875</td>\n",
       "      <td>1.000000</td>\n",
       "      <td>0.950266</td>\n",
       "      <td>0.991418</td>\n",
       "      <td>0.318278</td>\n",
       "    </tr>\n",
       "    <tr>\n",
       "      <th>Q4</th>\n",
       "      <td>-0.324533</td>\n",
       "      <td>0.259544</td>\n",
       "      <td>-0.007583</td>\n",
       "      <td>0.044940</td>\n",
       "      <td>0.268949</td>\n",
       "      <td>NaN</td>\n",
       "      <td>NaN</td>\n",
       "      <td>NaN</td>\n",
       "      <td>0.416647</td>\n",
       "      <td>0.950143</td>\n",
       "      <td>0.949600</td>\n",
       "      <td>0.950266</td>\n",
       "      <td>1.000000</td>\n",
       "      <td>0.974780</td>\n",
       "      <td>0.287259</td>\n",
       "    </tr>\n",
       "    <tr>\n",
       "      <th>Aggregate</th>\n",
       "      <td>-0.326212</td>\n",
       "      <td>0.282189</td>\n",
       "      <td>-0.009597</td>\n",
       "      <td>0.051792</td>\n",
       "      <td>0.290212</td>\n",
       "      <td>NaN</td>\n",
       "      <td>NaN</td>\n",
       "      <td>NaN</td>\n",
       "      <td>0.437944</td>\n",
       "      <td>0.991051</td>\n",
       "      <td>0.991332</td>\n",
       "      <td>0.991418</td>\n",
       "      <td>0.974780</td>\n",
       "      <td>1.000000</td>\n",
       "      <td>0.313691</td>\n",
       "    </tr>\n",
       "    <tr>\n",
       "      <th>Votes</th>\n",
       "      <td>-0.147023</td>\n",
       "      <td>0.154530</td>\n",
       "      <td>-0.011117</td>\n",
       "      <td>0.067783</td>\n",
       "      <td>0.185907</td>\n",
       "      <td>NaN</td>\n",
       "      <td>NaN</td>\n",
       "      <td>NaN</td>\n",
       "      <td>0.309444</td>\n",
       "      <td>0.316508</td>\n",
       "      <td>0.316215</td>\n",
       "      <td>0.318278</td>\n",
       "      <td>0.287259</td>\n",
       "      <td>0.313691</td>\n",
       "      <td>1.000000</td>\n",
       "    </tr>\n",
       "  </tbody>\n",
       "</table>\n",
       "</div>"
      ],
      "text/plain": [
       "                      Restaurant ID  Country Code  Avg. daily orders  \\\n",
       "Restaurant ID              1.000000      0.148471          -0.006292   \n",
       "Country Code               0.148471      1.000000          -0.010387   \n",
       "Avg. daily orders         -0.006292     -0.010387           1.000000   \n",
       "Average Cost for two      -0.001693      0.043225          -0.027389   \n",
       "InUSD                     -0.018624      0.436350          -0.005344   \n",
       "Desserts                        NaN           NaN                NaN   \n",
       "Café Flag                       NaN           NaN                NaN   \n",
       "Alcohol                         NaN           NaN                NaN   \n",
       "Price range               -0.134540      0.243327           0.000013   \n",
       "Q1                        -0.321386      0.282515          -0.009436   \n",
       "Q2                        -0.320585      0.287231          -0.009675   \n",
       "Q3                        -0.321704      0.284638          -0.011165   \n",
       "Q4                        -0.324533      0.259544          -0.007583   \n",
       "Aggregate                 -0.326212      0.282189          -0.009597   \n",
       "Votes                     -0.147023      0.154530          -0.011117   \n",
       "\n",
       "                      Average Cost for two     InUSD  Desserts  Café Flag  \\\n",
       "Restaurant ID                    -0.001693 -0.018624       NaN        NaN   \n",
       "Country Code                      0.043225  0.436350       NaN        NaN   \n",
       "Avg. daily orders                -0.027389 -0.005344       NaN        NaN   \n",
       "Average Cost for two              1.000000  0.050205       NaN        NaN   \n",
       "InUSD                             0.050205  1.000000       NaN        NaN   \n",
       "Desserts                               NaN       NaN       NaN        NaN   \n",
       "Café Flag                              NaN       NaN       NaN        NaN   \n",
       "Alcohol                                NaN       NaN       NaN        NaN   \n",
       "Price range                       0.075083  0.588054       NaN        NaN   \n",
       "Q1                                0.052651  0.292414       NaN        NaN   \n",
       "Q2                                0.053222  0.293246       NaN        NaN   \n",
       "Q3                                0.053579  0.291032       NaN        NaN   \n",
       "Q4                                0.044940  0.268949       NaN        NaN   \n",
       "Aggregate                         0.051792  0.290212       NaN        NaN   \n",
       "Votes                             0.067783  0.185907       NaN        NaN   \n",
       "\n",
       "                      Alcohol  Price range        Q1        Q2        Q3  \\\n",
       "Restaurant ID             NaN    -0.134540 -0.321386 -0.320585 -0.321704   \n",
       "Country Code              NaN     0.243327  0.282515  0.287231  0.284638   \n",
       "Avg. daily orders         NaN     0.000013 -0.009436 -0.009675 -0.011165   \n",
       "Average Cost for two      NaN     0.075083  0.052651  0.053222  0.053579   \n",
       "InUSD                     NaN     0.588054  0.292414  0.293246  0.291032   \n",
       "Desserts                  NaN          NaN       NaN       NaN       NaN   \n",
       "Café Flag                 NaN          NaN       NaN       NaN       NaN   \n",
       "Alcohol                   NaN          NaN       NaN       NaN       NaN   \n",
       "Price range               NaN     1.000000  0.437900  0.437668  0.436833   \n",
       "Q1                        NaN     0.437900  1.000000  0.981518  0.981254   \n",
       "Q2                        NaN     0.437668  0.981518  1.000000  0.982875   \n",
       "Q3                        NaN     0.436833  0.981254  0.982875  1.000000   \n",
       "Q4                        NaN     0.416647  0.950143  0.949600  0.950266   \n",
       "Aggregate                 NaN     0.437944  0.991051  0.991332  0.991418   \n",
       "Votes                     NaN     0.309444  0.316508  0.316215  0.318278   \n",
       "\n",
       "                            Q4  Aggregate     Votes  \n",
       "Restaurant ID        -0.324533  -0.326212 -0.147023  \n",
       "Country Code          0.259544   0.282189  0.154530  \n",
       "Avg. daily orders    -0.007583  -0.009597 -0.011117  \n",
       "Average Cost for two  0.044940   0.051792  0.067783  \n",
       "InUSD                 0.268949   0.290212  0.185907  \n",
       "Desserts                   NaN        NaN       NaN  \n",
       "Café Flag                  NaN        NaN       NaN  \n",
       "Alcohol                    NaN        NaN       NaN  \n",
       "Price range           0.416647   0.437944  0.309444  \n",
       "Q1                    0.950143   0.991051  0.316508  \n",
       "Q2                    0.949600   0.991332  0.316215  \n",
       "Q3                    0.950266   0.991418  0.318278  \n",
       "Q4                    1.000000   0.974780  0.287259  \n",
       "Aggregate             0.974780   1.000000  0.313691  \n",
       "Votes                 0.287259   0.313691  1.000000  "
      ]
     },
     "execution_count": 31,
     "metadata": {},
     "output_type": "execute_result"
    }
   ],
   "source": [
    "resolvr_std.corr()"
   ]
  },
  {
   "cell_type": "code",
   "execution_count": 32,
   "metadata": {},
   "outputs": [],
   "source": [
    "resolvr_exp = resolvr_std\n"
   ]
  },
  {
   "cell_type": "code",
   "execution_count": 36,
   "metadata": {},
   "outputs": [],
   "source": [
    "#resolvr_exp.pop('Average Cost for two')"
   ]
  },
  {
   "cell_type": "code",
   "execution_count": 40,
   "metadata": {},
   "outputs": [
    {
     "data": {
      "text/plain": [
       "Index(['restaurant_id', 'restaurant_name', 'country_code', 'avg._daily_orders',\n",
       "       'city', 'country', 'address', 'locality', 'locality_verbose',\n",
       "       '_longitude_', '_latitude_', 'cuisines', 'currency', 'inusd',\n",
       "       'has_table_booking', 'has_online_delivery', 'percentage_online_orders',\n",
       "       'desserts', 'café_flag', 'alcohol', 'price_range', 'q1', 'q2', 'q3',\n",
       "       'q4', 'aggregate', 'votes'],\n",
       "      dtype='object')"
      ]
     },
     "execution_count": 40,
     "metadata": {},
     "output_type": "execute_result"
    }
   ],
   "source": [
    "resolvr_exp.columns"
   ]
  },
  {
   "cell_type": "code",
   "execution_count": 39,
   "metadata": {},
   "outputs": [],
   "source": [
    "resolvr_exp.columns = [c.lower().replace(' ', '_') for c in resolvr_exp.columns]"
   ]
  },
  {
   "cell_type": "markdown",
   "metadata": {},
   "source": [
    "Resolvr_exp is the dataframe to be used for EDA. stored in EDA.csv"
   ]
  },
  {
   "cell_type": "code",
   "execution_count": 43,
   "metadata": {},
   "outputs": [],
   "source": [
    "resolvr_exp.has_online_delivery.eq('yes').mul(1)\n",
    "resolvr_exp.has_table_booking.eq('yes').mul(1)\n",
    "resolvr_exp.fillna(0, inplace=True)"
   ]
  },
  {
   "cell_type": "code",
   "execution_count": 44,
   "metadata": {},
   "outputs": [],
   "source": [
    "resolvr_exp.to_csv('EDA.csv', encoding='utf-8', index='False')"
   ]
  },
  {
   "cell_type": "code",
   "execution_count": 46,
   "metadata": {},
   "outputs": [
    {
     "data": {
      "text/html": [
       "<div>\n",
       "<style scoped>\n",
       "    .dataframe tbody tr th:only-of-type {\n",
       "        vertical-align: middle;\n",
       "    }\n",
       "\n",
       "    .dataframe tbody tr th {\n",
       "        vertical-align: top;\n",
       "    }\n",
       "\n",
       "    .dataframe thead th {\n",
       "        text-align: right;\n",
       "    }\n",
       "</style>\n",
       "<table border=\"1\" class=\"dataframe\">\n",
       "  <thead>\n",
       "    <tr style=\"text-align: right;\">\n",
       "      <th></th>\n",
       "      <th>restaurant_id</th>\n",
       "      <th>country_code</th>\n",
       "      <th>avg._daily_orders</th>\n",
       "      <th>inusd</th>\n",
       "      <th>desserts</th>\n",
       "      <th>café_flag</th>\n",
       "      <th>alcohol</th>\n",
       "      <th>price_range</th>\n",
       "      <th>q1</th>\n",
       "      <th>q2</th>\n",
       "      <th>q3</th>\n",
       "      <th>q4</th>\n",
       "      <th>aggregate</th>\n",
       "      <th>votes</th>\n",
       "    </tr>\n",
       "  </thead>\n",
       "  <tbody>\n",
       "    <tr>\n",
       "      <th>restaurant_id</th>\n",
       "      <td>1.000000</td>\n",
       "      <td>0.148471</td>\n",
       "      <td>-0.006292</td>\n",
       "      <td>-0.018624</td>\n",
       "      <td>-0.015945</td>\n",
       "      <td>-0.008961</td>\n",
       "      <td>0.026172</td>\n",
       "      <td>-0.134540</td>\n",
       "      <td>-0.321386</td>\n",
       "      <td>-0.320585</td>\n",
       "      <td>-0.321704</td>\n",
       "      <td>-0.324533</td>\n",
       "      <td>-0.326212</td>\n",
       "      <td>-0.147023</td>\n",
       "    </tr>\n",
       "    <tr>\n",
       "      <th>country_code</th>\n",
       "      <td>0.148471</td>\n",
       "      <td>1.000000</td>\n",
       "      <td>-0.010387</td>\n",
       "      <td>0.436350</td>\n",
       "      <td>0.041131</td>\n",
       "      <td>0.005585</td>\n",
       "      <td>0.277741</td>\n",
       "      <td>0.243327</td>\n",
       "      <td>0.282515</td>\n",
       "      <td>0.287231</td>\n",
       "      <td>0.284638</td>\n",
       "      <td>0.259544</td>\n",
       "      <td>0.282189</td>\n",
       "      <td>0.154530</td>\n",
       "    </tr>\n",
       "    <tr>\n",
       "      <th>avg._daily_orders</th>\n",
       "      <td>-0.006292</td>\n",
       "      <td>-0.010387</td>\n",
       "      <td>1.000000</td>\n",
       "      <td>-0.005344</td>\n",
       "      <td>0.015107</td>\n",
       "      <td>-0.012363</td>\n",
       "      <td>0.003712</td>\n",
       "      <td>0.000013</td>\n",
       "      <td>-0.009436</td>\n",
       "      <td>-0.009675</td>\n",
       "      <td>-0.011165</td>\n",
       "      <td>-0.007583</td>\n",
       "      <td>-0.009597</td>\n",
       "      <td>-0.011117</td>\n",
       "    </tr>\n",
       "    <tr>\n",
       "      <th>inusd</th>\n",
       "      <td>-0.018624</td>\n",
       "      <td>0.436350</td>\n",
       "      <td>-0.005344</td>\n",
       "      <td>1.000000</td>\n",
       "      <td>-0.043107</td>\n",
       "      <td>0.004263</td>\n",
       "      <td>0.188732</td>\n",
       "      <td>0.588054</td>\n",
       "      <td>0.292414</td>\n",
       "      <td>0.293246</td>\n",
       "      <td>0.291032</td>\n",
       "      <td>0.268949</td>\n",
       "      <td>0.290212</td>\n",
       "      <td>0.185907</td>\n",
       "    </tr>\n",
       "    <tr>\n",
       "      <th>desserts</th>\n",
       "      <td>-0.015945</td>\n",
       "      <td>0.041131</td>\n",
       "      <td>0.015107</td>\n",
       "      <td>-0.043107</td>\n",
       "      <td>1.000000</td>\n",
       "      <td>0.009513</td>\n",
       "      <td>-0.012017</td>\n",
       "      <td>-0.082752</td>\n",
       "      <td>0.067447</td>\n",
       "      <td>0.063863</td>\n",
       "      <td>0.066372</td>\n",
       "      <td>0.065092</td>\n",
       "      <td>0.066547</td>\n",
       "      <td>0.007522</td>\n",
       "    </tr>\n",
       "    <tr>\n",
       "      <th>café_flag</th>\n",
       "      <td>-0.008961</td>\n",
       "      <td>0.005585</td>\n",
       "      <td>-0.012363</td>\n",
       "      <td>0.004263</td>\n",
       "      <td>0.009513</td>\n",
       "      <td>1.000000</td>\n",
       "      <td>-0.013571</td>\n",
       "      <td>0.072858</td>\n",
       "      <td>0.123287</td>\n",
       "      <td>0.123070</td>\n",
       "      <td>0.123080</td>\n",
       "      <td>0.115543</td>\n",
       "      <td>0.122845</td>\n",
       "      <td>0.064885</td>\n",
       "    </tr>\n",
       "    <tr>\n",
       "      <th>alcohol</th>\n",
       "      <td>0.026172</td>\n",
       "      <td>0.277741</td>\n",
       "      <td>0.003712</td>\n",
       "      <td>0.188732</td>\n",
       "      <td>-0.012017</td>\n",
       "      <td>-0.013571</td>\n",
       "      <td>1.000000</td>\n",
       "      <td>0.180619</td>\n",
       "      <td>0.145593</td>\n",
       "      <td>0.145713</td>\n",
       "      <td>0.145574</td>\n",
       "      <td>0.136459</td>\n",
       "      <td>0.145227</td>\n",
       "      <td>0.152079</td>\n",
       "    </tr>\n",
       "    <tr>\n",
       "      <th>price_range</th>\n",
       "      <td>-0.134540</td>\n",
       "      <td>0.243327</td>\n",
       "      <td>0.000013</td>\n",
       "      <td>0.588054</td>\n",
       "      <td>-0.082752</td>\n",
       "      <td>0.072858</td>\n",
       "      <td>0.180619</td>\n",
       "      <td>1.000000</td>\n",
       "      <td>0.437900</td>\n",
       "      <td>0.437668</td>\n",
       "      <td>0.436833</td>\n",
       "      <td>0.416647</td>\n",
       "      <td>0.437944</td>\n",
       "      <td>0.309444</td>\n",
       "    </tr>\n",
       "    <tr>\n",
       "      <th>q1</th>\n",
       "      <td>-0.321386</td>\n",
       "      <td>0.282515</td>\n",
       "      <td>-0.009436</td>\n",
       "      <td>0.292414</td>\n",
       "      <td>0.067447</td>\n",
       "      <td>0.123287</td>\n",
       "      <td>0.145593</td>\n",
       "      <td>0.437900</td>\n",
       "      <td>1.000000</td>\n",
       "      <td>0.981518</td>\n",
       "      <td>0.981254</td>\n",
       "      <td>0.950143</td>\n",
       "      <td>0.991051</td>\n",
       "      <td>0.316508</td>\n",
       "    </tr>\n",
       "    <tr>\n",
       "      <th>q2</th>\n",
       "      <td>-0.320585</td>\n",
       "      <td>0.287231</td>\n",
       "      <td>-0.009675</td>\n",
       "      <td>0.293246</td>\n",
       "      <td>0.063863</td>\n",
       "      <td>0.123070</td>\n",
       "      <td>0.145713</td>\n",
       "      <td>0.437668</td>\n",
       "      <td>0.981518</td>\n",
       "      <td>1.000000</td>\n",
       "      <td>0.982875</td>\n",
       "      <td>0.949600</td>\n",
       "      <td>0.991332</td>\n",
       "      <td>0.316215</td>\n",
       "    </tr>\n",
       "    <tr>\n",
       "      <th>q3</th>\n",
       "      <td>-0.321704</td>\n",
       "      <td>0.284638</td>\n",
       "      <td>-0.011165</td>\n",
       "      <td>0.291032</td>\n",
       "      <td>0.066372</td>\n",
       "      <td>0.123080</td>\n",
       "      <td>0.145574</td>\n",
       "      <td>0.436833</td>\n",
       "      <td>0.981254</td>\n",
       "      <td>0.982875</td>\n",
       "      <td>1.000000</td>\n",
       "      <td>0.950266</td>\n",
       "      <td>0.991418</td>\n",
       "      <td>0.318278</td>\n",
       "    </tr>\n",
       "    <tr>\n",
       "      <th>q4</th>\n",
       "      <td>-0.324533</td>\n",
       "      <td>0.259544</td>\n",
       "      <td>-0.007583</td>\n",
       "      <td>0.268949</td>\n",
       "      <td>0.065092</td>\n",
       "      <td>0.115543</td>\n",
       "      <td>0.136459</td>\n",
       "      <td>0.416647</td>\n",
       "      <td>0.950143</td>\n",
       "      <td>0.949600</td>\n",
       "      <td>0.950266</td>\n",
       "      <td>1.000000</td>\n",
       "      <td>0.974780</td>\n",
       "      <td>0.287259</td>\n",
       "    </tr>\n",
       "    <tr>\n",
       "      <th>aggregate</th>\n",
       "      <td>-0.326212</td>\n",
       "      <td>0.282189</td>\n",
       "      <td>-0.009597</td>\n",
       "      <td>0.290212</td>\n",
       "      <td>0.066547</td>\n",
       "      <td>0.122845</td>\n",
       "      <td>0.145227</td>\n",
       "      <td>0.437944</td>\n",
       "      <td>0.991051</td>\n",
       "      <td>0.991332</td>\n",
       "      <td>0.991418</td>\n",
       "      <td>0.974780</td>\n",
       "      <td>1.000000</td>\n",
       "      <td>0.313691</td>\n",
       "    </tr>\n",
       "    <tr>\n",
       "      <th>votes</th>\n",
       "      <td>-0.147023</td>\n",
       "      <td>0.154530</td>\n",
       "      <td>-0.011117</td>\n",
       "      <td>0.185907</td>\n",
       "      <td>0.007522</td>\n",
       "      <td>0.064885</td>\n",
       "      <td>0.152079</td>\n",
       "      <td>0.309444</td>\n",
       "      <td>0.316508</td>\n",
       "      <td>0.316215</td>\n",
       "      <td>0.318278</td>\n",
       "      <td>0.287259</td>\n",
       "      <td>0.313691</td>\n",
       "      <td>1.000000</td>\n",
       "    </tr>\n",
       "  </tbody>\n",
       "</table>\n",
       "</div>"
      ],
      "text/plain": [
       "                   restaurant_id  country_code  avg._daily_orders     inusd  \\\n",
       "restaurant_id           1.000000      0.148471          -0.006292 -0.018624   \n",
       "country_code            0.148471      1.000000          -0.010387  0.436350   \n",
       "avg._daily_orders      -0.006292     -0.010387           1.000000 -0.005344   \n",
       "inusd                  -0.018624      0.436350          -0.005344  1.000000   \n",
       "desserts               -0.015945      0.041131           0.015107 -0.043107   \n",
       "café_flag              -0.008961      0.005585          -0.012363  0.004263   \n",
       "alcohol                 0.026172      0.277741           0.003712  0.188732   \n",
       "price_range            -0.134540      0.243327           0.000013  0.588054   \n",
       "q1                     -0.321386      0.282515          -0.009436  0.292414   \n",
       "q2                     -0.320585      0.287231          -0.009675  0.293246   \n",
       "q3                     -0.321704      0.284638          -0.011165  0.291032   \n",
       "q4                     -0.324533      0.259544          -0.007583  0.268949   \n",
       "aggregate              -0.326212      0.282189          -0.009597  0.290212   \n",
       "votes                  -0.147023      0.154530          -0.011117  0.185907   \n",
       "\n",
       "                   desserts  café_flag   alcohol  price_range        q1  \\\n",
       "restaurant_id     -0.015945  -0.008961  0.026172    -0.134540 -0.321386   \n",
       "country_code       0.041131   0.005585  0.277741     0.243327  0.282515   \n",
       "avg._daily_orders  0.015107  -0.012363  0.003712     0.000013 -0.009436   \n",
       "inusd             -0.043107   0.004263  0.188732     0.588054  0.292414   \n",
       "desserts           1.000000   0.009513 -0.012017    -0.082752  0.067447   \n",
       "café_flag          0.009513   1.000000 -0.013571     0.072858  0.123287   \n",
       "alcohol           -0.012017  -0.013571  1.000000     0.180619  0.145593   \n",
       "price_range       -0.082752   0.072858  0.180619     1.000000  0.437900   \n",
       "q1                 0.067447   0.123287  0.145593     0.437900  1.000000   \n",
       "q2                 0.063863   0.123070  0.145713     0.437668  0.981518   \n",
       "q3                 0.066372   0.123080  0.145574     0.436833  0.981254   \n",
       "q4                 0.065092   0.115543  0.136459     0.416647  0.950143   \n",
       "aggregate          0.066547   0.122845  0.145227     0.437944  0.991051   \n",
       "votes              0.007522   0.064885  0.152079     0.309444  0.316508   \n",
       "\n",
       "                         q2        q3        q4  aggregate     votes  \n",
       "restaurant_id     -0.320585 -0.321704 -0.324533  -0.326212 -0.147023  \n",
       "country_code       0.287231  0.284638  0.259544   0.282189  0.154530  \n",
       "avg._daily_orders -0.009675 -0.011165 -0.007583  -0.009597 -0.011117  \n",
       "inusd              0.293246  0.291032  0.268949   0.290212  0.185907  \n",
       "desserts           0.063863  0.066372  0.065092   0.066547  0.007522  \n",
       "café_flag          0.123070  0.123080  0.115543   0.122845  0.064885  \n",
       "alcohol            0.145713  0.145574  0.136459   0.145227  0.152079  \n",
       "price_range        0.437668  0.436833  0.416647   0.437944  0.309444  \n",
       "q1                 0.981518  0.981254  0.950143   0.991051  0.316508  \n",
       "q2                 1.000000  0.982875  0.949600   0.991332  0.316215  \n",
       "q3                 0.982875  1.000000  0.950266   0.991418  0.318278  \n",
       "q4                 0.949600  0.950266  1.000000   0.974780  0.287259  \n",
       "aggregate          0.991332  0.991418  0.974780   1.000000  0.313691  \n",
       "votes              0.316215  0.318278  0.287259   0.313691  1.000000  "
      ]
     },
     "execution_count": 46,
     "metadata": {},
     "output_type": "execute_result"
    }
   ],
   "source": [
    "resolvr_exp.corr()"
   ]
  },
  {
   "cell_type": "code",
   "execution_count": null,
   "metadata": {},
   "outputs": [],
   "source": []
  }
 ],
 "metadata": {
  "kernelspec": {
   "display_name": "Python 3",
   "language": "python",
   "name": "python3"
  },
  "language_info": {
   "codemirror_mode": {
    "name": "ipython",
    "version": 3
   },
   "file_extension": ".py",
   "mimetype": "text/x-python",
   "name": "python",
   "nbconvert_exporter": "python",
   "pygments_lexer": "ipython3",
   "version": "3.6.4"
  }
 },
 "nbformat": 4,
 "nbformat_minor": 2
}
